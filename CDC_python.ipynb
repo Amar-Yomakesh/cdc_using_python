{
 "cells": [
  {
   "cell_type": "code",
   "execution_count": 71,
   "id": "a7e75ae3",
   "metadata": {},
   "outputs": [
    {
     "name": "stdout",
     "output_type": "stream",
     "text": [
      "   key value cdc\n",
      "1  2.0     b   N\n",
      "2  3.0     d   U\n",
      "3  5.0     x   I\n",
      "0  1.0     a   D\n"
     ]
    }
   ],
   "source": [
    "import pandas as pd\n",
    "p_data=[[1,'a'],[2,'b'],[3,'c']]\n",
    "c_data=[[5,'x'],[2,'b'],[3,'d']]\n",
    "\n",
    "\n",
    "p_df = pd.DataFrame(p_data,columns=['key','value'])\n",
    "c_df= pd.DataFrame(c_data,columns=['key','value'])\n",
    "\n",
    "def hash_row(row):\n",
    "    return hash(tuple(row))\n",
    "\n",
    "p_df['hash'] = p_df.apply(hash_row,axis=1)\n",
    "#print(p_df)\n",
    "\n",
    "c_df['hash']= c_df.apply(hash_row,axis=1)\n",
    "#print(c_df)\n",
    "\n",
    "p_df= p_df.add_prefix('prev_')\n",
    "c_df= c_df.add_prefix('curr_')\n",
    "\n",
    "\n",
    "#print(p_df)\n",
    "df_temp = pd.merge(p_df,c_df,left_on=['prev_key'],right_on=['curr_key'],how='outer')\n",
    "#print(df_temp)\n",
    "def determine_cdc(df):\n",
    "    if pd.isna(df['curr_key']):\n",
    "        return 'D'\n",
    "    elif pd.isna(df['prev_key']):\n",
    "        return 'I'\n",
    "    elif df['prev_hash']!= df['curr_hash']:\n",
    "        return 'U'\n",
    "    else:\n",
    "        return 'N'\n",
    "\n",
    "df_temp['cdc'] = df_temp.apply(determine_cdc,axis=1)\n",
    "#print(df_temp)\n",
    "\n",
    "curr_df = df_temp[['curr_key','curr_value','cdc']][df_temp['cdc'].isin(['I','U','N'])]\n",
    "curr_df = curr_df.rename(columns={\"curr_key\":\"key\",\"curr_value\": \"value\"})\n",
    "\n",
    "prev_df = df_temp[['prev_key','prev_value','cdc']][df_temp['cdc'].isin(['D'])]\n",
    "prev_df = prev_df.rename(columns={\"prev_key\":\"key\",\"prev_value\": \"value\"})\n",
    "\n",
    "output_df= pd.concat([curr_df,prev_df])\n",
    "print(output_df)\n",
    "     "
   ]
  },
  {
   "cell_type": "code",
   "execution_count": 65,
   "id": "62313f4c",
   "metadata": {},
   "outputs": [
    {
     "data": {
      "text/plain": [
       "-7469554401258933003"
      ]
     },
     "execution_count": 65,
     "metadata": {},
     "output_type": "execute_result"
    }
   ],
   "source": [
    "#print(hash(tuple([1,2,3])\n",
    "number = 123\n",
    "list_nu = [12,23,4]\n",
    "#only  immutable value objects can be hashed. List is mutable hence cannot be hashed. tuble can be hashed since it's immutable\n",
    "hash(tuple(list_nu))\n"
   ]
  }
 ],
 "metadata": {
  "kernelspec": {
   "display_name": "Python 3 (ipykernel)",
   "language": "python",
   "name": "python3"
  },
  "language_info": {
   "codemirror_mode": {
    "name": "ipython",
    "version": 3
   },
   "file_extension": ".py",
   "mimetype": "text/x-python",
   "name": "python",
   "nbconvert_exporter": "python",
   "pygments_lexer": "ipython3",
   "version": "3.10.11"
  }
 },
 "nbformat": 4,
 "nbformat_minor": 5
}
